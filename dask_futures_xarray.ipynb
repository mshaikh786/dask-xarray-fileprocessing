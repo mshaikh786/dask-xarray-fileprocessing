{
 "cells": [
  {
   "cell_type": "code",
   "execution_count": 1,
   "id": "7479e2e9-d01e-47b1-9fdb-fee8c424aa61",
   "metadata": {
    "tags": []
   },
   "outputs": [],
   "source": [
    "import os,time\n",
    "import dask\n",
    "from dask.distributed import Client\n",
    "import xarray"
   ]
  },
  {
   "cell_type": "code",
   "execution_count": 2,
   "id": "21a54d1a-1496-403a-80e2-38d106d0ce14",
   "metadata": {
    "scrolled": true,
    "tags": []
   },
   "outputs": [
    {
     "name": "stdout",
     "output_type": "stream",
     "text": [
      "<Client: 'tcp://10.128.1.185:6192' processes=7 threads=112, memory=130.39 GiB>\n"
     ]
    }
   ],
   "source": [
    "client=Client(scheduler_file='../scheduler.json')\n",
    "print(client)"
   ]
  },
  {
   "cell_type": "code",
   "execution_count": 3,
   "id": "d0240ad0-e06e-4a83-9668-6aff264029cf",
   "metadata": {
    "tags": []
   },
   "outputs": [],
   "source": [
    "datasets=xarray.open_mfdataset(\n",
    "    '/scratch/shaima0d/test_data/*.nc',\n",
    "engine='netcdf4',\n",
    "chunks={'time':50})\n",
    "                        "
   ]
  },
  {
   "cell_type": "markdown",
   "id": "d45e9d30-e1ab-43d1-9fa5-f5dff49e88db",
   "metadata": {},
   "source": [
    "import pandas as pd\n",
    "years=list()\n",
    "for i in range(len(datasets.time)):\n",
    "    years.append(pd.to_datetime(datasets.time.data[i]).year)"
   ]
  },
  {
   "cell_type": "code",
   "execution_count": 4,
   "id": "c4940991-f9ee-47c3-9583-799a0f762542",
   "metadata": {
    "tags": []
   },
   "outputs": [],
   "source": [
    "with dask.config.set(**{'array.slicing.split_large_chunks': False}):\n",
    "    ytmp,dtmp=zip(*datasets.groupby('time.year'))"
   ]
  },
  {
   "cell_type": "code",
   "execution_count": 5,
   "id": "8125c10f-3033-47b0-b105-9a10e6d644ad",
   "metadata": {
    "tags": []
   },
   "outputs": [
    {
     "name": "stdout",
     "output_type": "stream",
     "text": [
      "21\n",
      "(1945, 1946, 1947, 1948, 1949, 1950, 1951, 1952, 1953, 1954, 1955, 1956, 1957, 1958, 1959, 1960, 1961, 1962, 1963, 1964, 1965)\n"
     ]
    }
   ],
   "source": [
    "print(len(ytmp))\n",
    "print(ytmp)"
   ]
  },
  {
   "cell_type": "code",
   "execution_count": 6,
   "id": "a191a1b3-c271-4296-b022-be49923fd480",
   "metadata": {
    "tags": []
   },
   "outputs": [],
   "source": [
    "!rm -rf /scratch/shaima0d/results/*"
   ]
  },
  {
   "cell_type": "code",
   "execution_count": 7,
   "id": "c4a173f8-ef0b-4d3a-896f-58238aaf9144",
   "metadata": {
    "tags": []
   },
   "outputs": [],
   "source": [
    "paths=list()\n",
    "for y in range(len(dtmp)):\n",
    "    paths.append('/scratch/shaima0d/results/tmp%d.nc'%ytmp[y])"
   ]
  },
  {
   "cell_type": "code",
   "execution_count": 8,
   "id": "a3c3ab3d-0c87-49f5-86d7-d1b0228c7593",
   "metadata": {
    "tags": []
   },
   "outputs": [],
   "source": [
    "def writer(path,D):\n",
    "    D.load()\n",
    "    return D.to_netcdf(path=path,\n",
    "    engine='netcdf4',\n",
    "    format='NETCDF4_CLASSIC',\n",
    "               )\n"
   ]
  },
  {
   "cell_type": "code",
   "execution_count": 9,
   "id": "10a089e7-003b-47e3-8c9c-91ca722afbe5",
   "metadata": {
    "tags": []
   },
   "outputs": [],
   "source": [
    "futures=list()\n",
    "for i in range(len(dtmp)):\n",
    "    futures.append(client.submit(writer,paths[i],dtmp[i]))"
   ]
  },
  {
   "cell_type": "code",
   "execution_count": 10,
   "id": "add917fe-3d5f-41e5-a21d-d2f20e17c8f3",
   "metadata": {
    "tags": []
   },
   "outputs": [
    {
     "ename": "KeyError",
     "evalue": "'data'",
     "output_type": "error",
     "traceback": [
      "\u001b[0;31m---------------------------------------------------------------------------\u001b[0m",
      "\u001b[0;31mKeyError\u001b[0m                                  Traceback (most recent call last)",
      "Cell \u001b[0;32mIn[10], line 2\u001b[0m\n\u001b[1;32m      1\u001b[0m \u001b[38;5;28;01mfor\u001b[39;00m future \u001b[38;5;129;01min\u001b[39;00m futures:\n\u001b[0;32m----> 2\u001b[0m     \u001b[38;5;28mprint\u001b[39m(\u001b[43mfuture\u001b[49m\u001b[38;5;241;43m.\u001b[39;49m\u001b[43mresult\u001b[49m\u001b[43m(\u001b[49m\u001b[43m)\u001b[49m)\n",
      "Cell \u001b[0;32mIn[8], line 2\u001b[0m, in \u001b[0;36mwriter\u001b[0;34m()\u001b[0m\n\u001b[1;32m      1\u001b[0m \u001b[38;5;28;01mdef\u001b[39;00m \u001b[38;5;21mwriter\u001b[39m(path,D):\n\u001b[0;32m----> 2\u001b[0m     D\u001b[38;5;241m.\u001b[39mload()\n\u001b[1;32m      3\u001b[0m     \u001b[38;5;28;01mreturn\u001b[39;00m D\u001b[38;5;241m.\u001b[39mto_netcdf(path\u001b[38;5;241m=\u001b[39mpath,\n\u001b[1;32m      4\u001b[0m     engine\u001b[38;5;241m=\u001b[39m\u001b[38;5;124m'\u001b[39m\u001b[38;5;124mnetcdf4\u001b[39m\u001b[38;5;124m'\u001b[39m,\n\u001b[1;32m      5\u001b[0m     \u001b[38;5;28mformat\u001b[39m\u001b[38;5;241m=\u001b[39m\u001b[38;5;124m'\u001b[39m\u001b[38;5;124mNETCDF4_CLASSIC\u001b[39m\u001b[38;5;124m'\u001b[39m,\n\u001b[1;32m      6\u001b[0m                )\n",
      "File \u001b[0;32m/scratch/shaima0d/conda_env/dask_xarray/lib/python3.9/site-packages/xarray/core/dataset.py:792\u001b[0m, in \u001b[0;36mload\u001b[0;34m()\u001b[0m\n\u001b[1;32m    789\u001b[0m chunkmanager \u001b[38;5;241m=\u001b[39m get_chunked_array_type(\u001b[38;5;241m*\u001b[39mlazy_data\u001b[38;5;241m.\u001b[39mvalues())\n\u001b[1;32m    791\u001b[0m \u001b[38;5;66;03m# evaluate all the chunked arrays simultaneously\u001b[39;00m\n\u001b[0;32m--> 792\u001b[0m evaluated_data \u001b[38;5;241m=\u001b[39m chunkmanager\u001b[38;5;241m.\u001b[39mcompute(\u001b[38;5;241m*\u001b[39mlazy_data\u001b[38;5;241m.\u001b[39mvalues(), \u001b[38;5;241m*\u001b[39m\u001b[38;5;241m*\u001b[39mkwargs)\n\u001b[1;32m    794\u001b[0m \u001b[38;5;28;01mfor\u001b[39;00m k, data \u001b[38;5;129;01min\u001b[39;00m \u001b[38;5;28mzip\u001b[39m(lazy_data, evaluated_data):\n\u001b[1;32m    795\u001b[0m     \u001b[38;5;28mself\u001b[39m\u001b[38;5;241m.\u001b[39mvariables[k]\u001b[38;5;241m.\u001b[39mdata \u001b[38;5;241m=\u001b[39m data\n",
      "File \u001b[0;32m/scratch/shaima0d/conda_env/dask_xarray/lib/python3.9/site-packages/xarray/core/daskmanager.py:70\u001b[0m, in \u001b[0;36mcompute\u001b[0;34m()\u001b[0m\n\u001b[1;32m     67\u001b[0m \u001b[38;5;28;01mdef\u001b[39;00m \u001b[38;5;21mcompute\u001b[39m(\u001b[38;5;28mself\u001b[39m, \u001b[38;5;241m*\u001b[39mdata: DaskArray, \u001b[38;5;241m*\u001b[39m\u001b[38;5;241m*\u001b[39mkwargs) \u001b[38;5;241m-\u001b[39m\u001b[38;5;241m>\u001b[39m \u001b[38;5;28mtuple\u001b[39m[np\u001b[38;5;241m.\u001b[39mndarray, \u001b[38;5;241m.\u001b[39m\u001b[38;5;241m.\u001b[39m\u001b[38;5;241m.\u001b[39m]:\n\u001b[1;32m     68\u001b[0m     \u001b[38;5;28;01mfrom\u001b[39;00m \u001b[38;5;21;01mdask\u001b[39;00m\u001b[38;5;21;01m.\u001b[39;00m\u001b[38;5;21;01marray\u001b[39;00m \u001b[38;5;28;01mimport\u001b[39;00m compute\n\u001b[0;32m---> 70\u001b[0m     \u001b[38;5;28;01mreturn\u001b[39;00m compute(\u001b[38;5;241m*\u001b[39mdata, \u001b[38;5;241m*\u001b[39m\u001b[38;5;241m*\u001b[39mkwargs)\n",
      "File \u001b[0;32m/scratch/shaima0d/conda_env/dask_xarray/lib/python3.9/site-packages/distributed/utils_comm.py:100\u001b[0m, in \u001b[0;36mgather_from_workers\u001b[0;34m()\u001b[0m\n\u001b[1;32m     98\u001b[0m         missing_workers\u001b[38;5;241m.\u001b[39madd(worker)\n\u001b[1;32m     99\u001b[0m     \u001b[38;5;28;01melse\u001b[39;00m:\n\u001b[0;32m--> 100\u001b[0m         response\u001b[38;5;241m.\u001b[39mupdate(r[\u001b[38;5;124m\"\u001b[39m\u001b[38;5;124mdata\u001b[39m\u001b[38;5;124m\"\u001b[39m])\n\u001b[1;32m    102\u001b[0m bad_addresses \u001b[38;5;241m|\u001b[39m\u001b[38;5;241m=\u001b[39m {v \u001b[38;5;28;01mfor\u001b[39;00m k, v \u001b[38;5;129;01min\u001b[39;00m rev\u001b[38;5;241m.\u001b[39mitems() \u001b[38;5;28;01mif\u001b[39;00m k \u001b[38;5;129;01mnot\u001b[39;00m \u001b[38;5;129;01min\u001b[39;00m response}\n\u001b[1;32m    103\u001b[0m results\u001b[38;5;241m.\u001b[39mupdate(response)\n",
      "\u001b[0;31mKeyError\u001b[0m: 'data'"
     ]
    }
   ],
   "source": [
    "for future in futures:\n",
    "    print(future.result())"
   ]
  },
  {
   "cell_type": "code",
   "execution_count": null,
   "id": "76b0694a-242c-430b-9826-da44d8fdb04f",
   "metadata": {},
   "outputs": [],
   "source": []
  }
 ],
 "metadata": {
  "kernelspec": {
   "display_name": "Python 3 (ipykernel)",
   "language": "python",
   "name": "python3"
  },
  "language_info": {
   "codemirror_mode": {
    "name": "ipython",
    "version": 3
   },
   "file_extension": ".py",
   "mimetype": "text/x-python",
   "name": "python",
   "nbconvert_exporter": "python",
   "pygments_lexer": "ipython3",
   "version": "3.9.17"
  }
 },
 "nbformat": 4,
 "nbformat_minor": 5
}
